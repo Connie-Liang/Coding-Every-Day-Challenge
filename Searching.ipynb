{
 "cells": [
  {
   "cell_type": "markdown",
   "metadata": {},
   "source": [
    "# Binary Search\n",
    "\n",
    "Write a function that takes in a sorted array of integers as well as a target integer. The function should use the Binary Search algorithm to determine if the target integer is contained in the array and should return its index if it is, otherwise -1.\n",
    "\n",
    "`array = [0, 1, 21, 33, 45, 45, 61, 71, 72, 73]`\n",
    "\n",
    "`target = 33`"
   ]
  },
  {
   "cell_type": "code",
   "execution_count": 23,
   "metadata": {},
   "outputs": [
    {
     "data": {
      "text/plain": [
       "8"
      ]
     },
     "execution_count": 23,
     "metadata": {},
     "output_type": "execute_result"
    }
   ],
   "source": [
    "def binarySearch(array, target):\n",
    "    \n",
    "    return binarySearchHelper(array, target, 0, len(array)-1)\n",
    "    \n",
    "\n",
    "def binarySearchHelper(array, target, left, right):\n",
    "    \n",
    "    while left <= right: # stopper. will run through below code, if we cannot find target, left will be bigger\n",
    "        \n",
    "        mid = (left + right)//2 #finds the middle index of left and right, rounded down\n",
    "        potential_match = array[mid] #potential match to target value\n",
    "\n",
    "        if target == potential_match:\n",
    "            return mid \n",
    "        elif target < potential_match:  \n",
    "            right = mid - 1  #readjust the middle index to be the new \"right\"\n",
    "        else:\n",
    "            left = mid + 1  #re-adjust the left index to be the new \"left\"\n",
    "\n",
    "    return -1\n",
    "\n",
    "array = [0, 1, 21, 33, 45, 45, 61, 71, 72, 73]\n",
    "target = 72\n",
    "\n",
    "binarySearch(array, target)\n",
    "    "
   ]
  },
  {
   "cell_type": "code",
   "execution_count": null,
   "metadata": {},
   "outputs": [],
   "source": []
  },
  {
   "cell_type": "code",
   "execution_count": null,
   "metadata": {},
   "outputs": [],
   "source": []
  },
  {
   "cell_type": "code",
   "execution_count": null,
   "metadata": {},
   "outputs": [],
   "source": []
  }
 ],
 "metadata": {
  "kernelspec": {
   "display_name": "Python 3",
   "language": "python",
   "name": "python3"
  },
  "language_info": {
   "codemirror_mode": {
    "name": "ipython",
    "version": 3
   },
   "file_extension": ".py",
   "mimetype": "text/x-python",
   "name": "python",
   "nbconvert_exporter": "python",
   "pygments_lexer": "ipython3",
   "version": "3.7.6"
  }
 },
 "nbformat": 4,
 "nbformat_minor": 4
}
