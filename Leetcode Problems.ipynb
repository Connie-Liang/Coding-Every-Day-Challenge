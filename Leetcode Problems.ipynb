{
 "cells": [
  {
   "cell_type": "markdown",
   "metadata": {},
   "source": [
    "### 1. Two Sum\n",
    "\n",
    "Given an array of integers nums and an integer target, return indices of the two numbers such that they add up to target.\n",
    "\n",
    "You may assume that each input would have exactly one solution, and you may not use the same element twice.\n",
    "\n",
    "You can return the answer in any order.\n",
    "\n",
    "`Input: nums = [2,7,11,15], target = 9\n",
    " Output: [0,1]\n",
    " Output: Because nums[0] + nums[1] == 9, we return [0, 1].`"
   ]
  },
  {
   "cell_type": "code",
   "execution_count": 24,
   "metadata": {},
   "outputs": [
    {
     "name": "stdout",
     "output_type": "stream",
     "text": [
      "[0, 1]\n",
      "[0, 2]\n",
      "[1, 2]\n"
     ]
    }
   ],
   "source": [
    "def twoSum(nums, target):\n",
    "    \"\"\"\n",
    "    :type nums: List[int]\n",
    "    :type target: int\n",
    "    :rtype: List[int]\n",
    "    \"\"\"\n",
    "    \n",
    "    for i in range(len(nums)-1): # iterate through [2,7,11] by index\n",
    "        for j in range(i+1, len(nums)): # iterate through [7,11,15]\n",
    "            if nums[i] + nums[j] == target:\n",
    "                return [i,j]\n",
    "        \n",
    "print(twoSum(nums = [2,7,11,15], target = 9))\n",
    "print(twoSum(nums = [3,2,3], target = 6))\n",
    "print(twoSum(nums = [3,2,4], target = 6))\n",
    "\n",
    "# downside: time complexity will be O(n**2) since we are traversing the list through a nested loop"
   ]
  },
  {
   "cell_type": "markdown",
   "metadata": {},
   "source": [
    "### 7. Reverse Integer\n",
    "\n",
    "Given a signed 32-bit integer `x`, return `x` with its digits reversed. \n",
    "If reversing `x` causes the value to go outside the signed 32-bit integer range `[-2^31, 2^(31 - 1)]`, then return `0`.\n",
    "\n",
    "Assume the environment does not allow you to store 64-bit integers (signed or unsigned).\n",
    " \n",
    "\n",
    "Example 1:\n",
    "\n",
    "    Input: x = 123\n",
    "    Output: 321"
   ]
  },
  {
   "cell_type": "code",
   "execution_count": 30,
   "metadata": {},
   "outputs": [
    {
     "name": "stdout",
     "output_type": "stream",
     "text": [
      "321\n",
      "13\n",
      "321\n"
     ]
    }
   ],
   "source": [
    "def reverse(x):\n",
    "    \"\"\"\n",
    "    :type x: int\n",
    "    :rtype: int\n",
    "    \"\"\"\n",
    "    if x > 0:\n",
    "        rx = int(str(x)[::-1]) # if positive, return x with its digits reversed\n",
    "    else:\n",
    "        rx = int(str(-x)[::-1]) # if negative, cancels the negative first, then puts it back at the end\n",
    "        \n",
    "    return rx if abs(rx) < 2**31-1 else 0 # return 0 if rx goes outside the signed 32-bit integer range\n",
    "\n",
    "print(reverse(123))\n",
    "print(reverse(-2^31))\n",
    "print(reverse(-123))"
   ]
  },
  {
   "cell_type": "code",
   "execution_count": null,
   "metadata": {},
   "outputs": [],
   "source": []
  },
  {
   "cell_type": "markdown",
   "metadata": {},
   "source": [
    "### 9. Palindrome Number\n",
    "\n",
    "Given an integer `x`, return `true` if `x` is palindrome integer.\n",
    "\n",
    "An integer is a palindrome when it reads the same backward as forward. For example, 121 is palindrome while 123 is not."
   ]
  },
  {
   "cell_type": "code",
   "execution_count": 6,
   "metadata": {},
   "outputs": [
    {
     "data": {
      "text/plain": [
       "True"
      ]
     },
     "execution_count": 6,
     "metadata": {},
     "output_type": "execute_result"
    }
   ],
   "source": [
    "def isPalindrome(x):\n",
    "    \"\"\"\n",
    "    :type x: int\n",
    "    :rtype: bool\n",
    "    \"\"\"\n",
    "    return str(x)[::-1] == str(x)\n",
    "        \n",
    "isPalindrome(121)"
   ]
  },
  {
   "cell_type": "markdown",
   "metadata": {},
   "source": [
    "### 234. Palindrome Linked List\n",
    "\n",
    "Given the head of a singly linked list, return true if it is a palindrome. Ex:\n",
    "\n",
    "`Input: head = [1,2,2,1]`            \n",
    "`Output: true` \n",
    "\n",
    "`Input: head = [1,2]`    \n",
    "`Output: false`"
   ]
  },
  {
   "cell_type": "code",
   "execution_count": 10,
   "metadata": {},
   "outputs": [
    {
     "name": "stdout",
     "output_type": "stream",
     "text": [
      "True\n",
      "False\n"
     ]
    }
   ],
   "source": [
    "def isPalindrome(head):\n",
    "    \"\"\"\n",
    "    :type head: ListNode\n",
    "    :rtype: bool\n",
    "    \"\"\"\n",
    "\n",
    "    return head == head[::-1]\n",
    "    \n",
    "print(isPalindrome([1,2,2,1]))\n",
    "print(isPalindrome([1,2]))"
   ]
  },
  {
   "cell_type": "code",
   "execution_count": null,
   "metadata": {},
   "outputs": [],
   "source": []
  }
 ],
 "metadata": {
  "kernelspec": {
   "display_name": "Python 3",
   "language": "python",
   "name": "python3"
  },
  "language_info": {
   "codemirror_mode": {
    "name": "ipython",
    "version": 3
   },
   "file_extension": ".py",
   "mimetype": "text/x-python",
   "name": "python",
   "nbconvert_exporter": "python",
   "pygments_lexer": "ipython3",
   "version": "3.7.6"
  }
 },
 "nbformat": 4,
 "nbformat_minor": 4
}
