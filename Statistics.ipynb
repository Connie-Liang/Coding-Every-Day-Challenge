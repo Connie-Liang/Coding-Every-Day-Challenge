{
 "cells": [
  {
   "cell_type": "code",
   "execution_count": null,
   "metadata": {},
   "outputs": [],
   "source": [
    "from numpy import random\n",
    "import numpy as np\n",
    "def roll_the_dice(n_simulations = 1000):\n",
    "    '''\n",
    "    input: int\n",
    "    output: float\n",
    "    two unbiased, six sided, dice are thrown once and the sum of the \n",
    "    showing faces is observed (so if you rolled a 3 and a 1, you would \n",
    "    observe the sum, 4). use a simulation to find the estimated \n",
    "    probability that the total score is an even number or a number \n",
    "    greater than 7.  your function should return an estimated \n",
    "    probability, based on rolling the two dice n_simulations times.\n",
    "    '''"
   ]
  },
  {
   "cell_type": "code",
   "execution_count": null,
   "metadata": {},
   "outputs": [],
   "source": [
    "import scipy.stats as stats\n",
    "def calculate_t_test(sample1, sample2, type_i_error_rate):\n",
    "    '''\n",
    "    input: numpy array, numpy array\n",
    "    output: float, boolean\n",
    "    you are asked to evaluate whether the two samples come from a \n",
    "    population with the same population mean.  return a tuple \n",
    "    containing the p-value for the pair of samples and true or false \n",
    "    depending if the p-value is considered significant at the provided \n",
    "    type i error rate (i.e. false positive rate, i.e. alpha).\n",
    "    '''\n",
    "    \n",
    "    "
   ]
  },
  {
   "cell_type": "code",
   "execution_count": null,
   "metadata": {},
   "outputs": [],
   "source": [
    "import numpy as np\n",
    "def add_column(arr, col):\n",
    "    '''\n",
    "    INPUT: 2 DIMENSIONAL NUMPY ARRAY, NUMPY ARRAY\n",
    "    OUTPUT: 2 DIMENSIONAL NUMPY ARRAY\n",
    "    Return a numpy array containing arr with col added as a final \n",
    "    column. You can assume that the number of rows in arr is the same \n",
    "    as the length of col.\n",
    "    E.g.  np.array([[1, 2], [3, 4]]), np.array([5, 6))\n",
    "              ->  np.array([[1, 2, 5], [3, 4, 6]])\n",
    "    '''\n",
    "\n"
   ]
  },
  {
   "cell_type": "code",
   "execution_count": null,
   "metadata": {},
   "outputs": [],
   "source": [
    "import numpy as np\n",
    "def only_positive(arr):\n",
    "    '''\n",
    "    INPUT: 2 DIMENSIONAL NUMPY ARRAY\n",
    "    OUTPUT: 2 DIMENSIONAL NUMPY ARRAY\n",
    "    Return a numpy array containing only the rows from arr where all \n",
    "    the values in that row are positive.\n",
    "    E.g.  np.array([[1, -1, 2], \n",
    "                    [3, 4, 2], \n",
    "                    [-8, 4, -4]])\n",
    "              ->  np.array([[3, 4, 2]])\n",
    "    Use numpy methods to do this, full credit will not be awarded for a \n",
    "    python for loop.\n",
    "    '''\n"
   ]
  },
  {
   "cell_type": "code",
   "execution_count": null,
   "metadata": {},
   "outputs": [],
   "source": [
    "def df_to_numpy(df, y_column):\n",
    "    '''\n",
    "    input: dataframe, string\n",
    "    output: 2 dimensional numpy array, numpy array\n",
    "    make the column named y_column into a numpy array (y) and make the \n",
    "    rest of the dataframe into a 2 dimensional numpy array (x). return \n",
    "    (x, y).\n",
    "    e.g.\n",
    "                a  b  c\n",
    "        df = 0  1  3  5\n",
    "             1  2  4  6\n",
    "        y_column = 'c'\n",
    "        output: np.array([[1, 3], [2, 4]]), np.array([5, 6])\n",
    "    '''\n"
   ]
  },
  {
   "cell_type": "code",
   "execution_count": null,
   "metadata": {},
   "outputs": [],
   "source": [
    "def pandas_query(df):\n",
    "    '''\n",
    "    input: dataframe\n",
    "    output: dataframe\n",
    "    given a dataframe containing university data with these columns:\n",
    "        name, address, website, type, size\n",
    "    return the dataframe containing the average size for each \n",
    "    university type ordered by average size in ascending order.\n",
    "    '''\n"
   ]
  },
  {
   "cell_type": "markdown",
   "metadata": {},
   "source": [
    "### The bias of a coin is 0.6. What is the probability of flipping 8 or more heads in 10 flips?\n"
   ]
  },
  {
   "cell_type": "markdown",
   "metadata": {},
   "source": [
    "### A probability distribution P is dependent on two categorical values x and y. x can take on values T and F, while y can take on values of a, b, and c. The following joint distribution table describes the joint probability P(x,y).\n",
    "\n",
    "        a        b        c\n",
    "        \n",
    "`T  |  0.2   |  0.1   |  0.2`\n",
    "\n",
    "`F  |  0.05  |  0.15  |  0.3`"
   ]
  },
  {
   "cell_type": "markdown",
   "metadata": {},
   "source": [
    "### Which distribution is most appropriate to use to represent the scenario? The side that faces up when you roll a fair, 20 sided die.\n"
   ]
  }
 ],
 "metadata": {
  "kernelspec": {
   "display_name": "Python 3",
   "language": "python",
   "name": "python3"
  },
  "language_info": {
   "codemirror_mode": {
    "name": "ipython",
    "version": 3
   },
   "file_extension": ".py",
   "mimetype": "text/x-python",
   "name": "python",
   "nbconvert_exporter": "python",
   "pygments_lexer": "ipython3",
   "version": "3.7.6"
  }
 },
 "nbformat": 4,
 "nbformat_minor": 4
}
