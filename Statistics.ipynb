{
 "cells": [
  {
   "cell_type": "code",
   "execution_count": 1,
   "metadata": {},
   "outputs": [],
   "source": [
    "from numpy import random\n",
    "import numpy as np\n",
    "def roll_the_dice(n_simulations = 1000):\n",
    "    '''\n",
    "    input: int\n",
    "    output: float\n",
    "    two unbiased, six sided, dice are thrown once and the sum of the \n",
    "    showing faces is observed (so if you rolled a 3 and a 1, you would \n",
    "    observe the sum, 4). use a simulation to find the estimated \n",
    "    probability that the total score is an even number or a number \n",
    "    greater than 7.  your function should return an estimated \n",
    "    probability, based on rolling the two dice n_simulations times.\n",
    "    '''\n",
    "\n",
    "    lst = []\n",
    "    total = 0\n",
    "    prob = 0\n",
    "    \n",
    "    for i in range(n_simulations):\n",
    "        die1 = np.random.randint(1,7)\n",
    "        die2 = np.random.randint(1,7)\n",
    "        total = die1 + die2\n",
    "        lst.append(total)\n",
    "    \n",
    "    for num in lst:\n",
    "        if num % 2 ==0 or num > 7:\n",
    "            prob += 1\n",
    "    \n",
    "    return prob/n_simulations\n",
    "\n",
    "#     better method:\n",
    "#     total = 0\n",
    "#     num_repeats = 10000\n",
    "#     for i in range(num_repeats):\n",
    "#         die1 = random.randint(1, 6+1)\n",
    "#         die2 = random.randint(1, 6+1)\n",
    "#         score = die1 + die2\n",
    "#         if score % 2 == 0 or score > 7:\n",
    "#             total += 1\n",
    "#     return float(total) / num_repeats"
   ]
  },
  {
   "cell_type": "code",
   "execution_count": 2,
   "metadata": {},
   "outputs": [
    {
     "data": {
      "text/plain": [
       "(2.0822462377669572e-08, False)"
      ]
     },
     "execution_count": 2,
     "metadata": {},
     "output_type": "execute_result"
    }
   ],
   "source": [
    "import scipy.stats as stats\n",
    "def calculate_t_test(sample1, sample2, type_i_error_rate):\n",
    "    '''\n",
    "    input: numpy array, numpy array\n",
    "    output: float, boolean\n",
    "    you are asked to evaluate whether the two samples come from a \n",
    "    population with the same population mean.  return a tuple \n",
    "    containing the p-value for the pair of samples and true or false \n",
    "    depending if the p-value is considered significant at the provided \n",
    "    type i error rate (i.e. false positive rate, i.e. alpha).\n",
    "    '''\n",
    "    x, pvalue = stats.ttest_ind(sample1, sample2)\n",
    "    return pvalue, pvalue > type_i_error_rate\n",
    "\n",
    "calculate_t_test(sample1=stats.norm.rvs(loc=5,scale=10,size=500), \n",
    "                 sample2 = stats.norm.rvs(loc=8, scale=20, size=100), \n",
    "                 type_i_error_rate = 0.5)"
   ]
  },
  {
   "cell_type": "code",
   "execution_count": 3,
   "metadata": {},
   "outputs": [
    {
     "data": {
      "text/plain": [
       "(array([[1, 2],\n",
       "        [3, 4]]),\n",
       " 2,\n",
       " array([[1, 2, 5],\n",
       "        [3, 4, 6]]),\n",
       " 3)"
      ]
     },
     "execution_count": 3,
     "metadata": {},
     "output_type": "execute_result"
    }
   ],
   "source": [
    "import numpy as np\n",
    "def add_column(arr, col):\n",
    "    '''\n",
    "    INPUT: 2 DIMENSIONAL NUMPY ARRAY, NUMPY ARRAY\n",
    "    OUTPUT: 2 DIMENSIONAL NUMPY ARRAY\n",
    "    Return a numpy array containing arr with col added as a final \n",
    "    column. You can assume that the number of rows in arr is the same \n",
    "    as the length of col.\n",
    "    E.g.  np.array([[1, 2], [3, 4]]), np.array([5, 6))\n",
    "              ->  np.array([[1, 2, 5], [3, 4, 6]])\n",
    "    '''\n",
    "\n",
    "    new_arr = np.insert(arr, len(arr), col, axis = 1)\n",
    "    return arr, len(arr[0]), new_arr, len(new_arr[0])\n",
    "\n",
    "add_column(np.array([[1, 2], [3, 4]]), np.array([5, 6]))"
   ]
  },
  {
   "cell_type": "code",
   "execution_count": 4,
   "metadata": {},
   "outputs": [
    {
     "data": {
      "text/plain": [
       "(array([-1,  2, -8]), array([[3, 4, 2]]))"
      ]
     },
     "execution_count": 4,
     "metadata": {},
     "output_type": "execute_result"
    }
   ],
   "source": [
    "import numpy as np\n",
    "def only_positive(arr):\n",
    "    '''\n",
    "    INPUT: 2 DIMENSIONAL NUMPY ARRAY\n",
    "    OUTPUT: 2 DIMENSIONAL NUMPY ARRAY\n",
    "    Return a numpy array containing only the rows from arr where all \n",
    "    the values in that row are positive.\n",
    "    E.g.  np.array([[1, -1, 2], \n",
    "                    [3, 4, 2], \n",
    "                    [-8, 4, -4]])\n",
    "              ->  np.array([[3, 4, 2]])\n",
    "    Use numpy methods to do this, full credit will not be awarded for a \n",
    "    python for loop.\n",
    "    '''\n",
    "    return np.min(arr,1), arr[np.min(arr,1) > 0]\n",
    "\n",
    "only_positive(np.array([[1, -1, 2], \n",
    "                    [3, 4, 2], \n",
    "                    [-8, 4, -4]]))"
   ]
  },
  {
   "cell_type": "code",
   "execution_count": 5,
   "metadata": {},
   "outputs": [],
   "source": [
    "def df_to_numpy(df, y_column):\n",
    "    '''\n",
    "    input: dataframe, string\n",
    "    output: 2 dimensional numpy array, numpy array\n",
    "    make the column named y_column into a numpy array (y) and make the \n",
    "    rest of the dataframe into a 2 dimensional numpy array (x). return \n",
    "    (x, y).\n",
    "    e.g.\n",
    "                a  b  c\n",
    "        df = 0  1  3  5\n",
    "             1  2  4  6\n",
    "        y_column = 'c'\n",
    "        output: np.array([[1, 3], [2, 4]]), np.array([5, 6])\n",
    "    '''\n",
    "    df2 = df.copy()\n",
    "    x = df2.drop(y_column, axis=1)\n",
    "    y = df[y_column]\n",
    "    return x,y\n",
    "    "
   ]
  },
  {
   "cell_type": "code",
   "execution_count": 6,
   "metadata": {},
   "outputs": [],
   "source": [
    "def pandas_query(df):\n",
    "    '''\n",
    "    input: dataframe\n",
    "    output: dataframe\n",
    "    given a dataframe containing university data with these columns:\n",
    "        name, address, website, type, size\n",
    "    return the dataframe containing the average size for each \n",
    "    university type ordered by average size in ascending order.\n",
    "    '''\n",
    "    new_df = df.groupby('type')['size'].mean().sort_values(by = 'size', ascending = True)\n",
    "    return new_df"
   ]
  },
  {
   "cell_type": "markdown",
   "metadata": {},
   "source": [
    "### The bias of a coin is 0.6. What is the probability of flipping 8 or more heads in 10 flips?\n"
   ]
  },
  {
   "cell_type": "code",
   "execution_count": 7,
   "metadata": {},
   "outputs": [
    {
     "name": "stdout",
     "output_type": "stream",
     "text": [
      "(0.12093235199999994, 0.04031078400000004, 0.0060466176) 0.16728975359999998 \n",
      " 0.16728975359999998\n"
     ]
    }
   ],
   "source": [
    "cdf = stats.binom.cdf(7,10,0.6)\n",
    "1-cdf\n",
    "\n",
    "prob = stats.binom(10,0.6)\n",
    "total = prob.pmf(8), prob.pmf(9), prob.pmf(10)\n",
    "print(total, sum(total), '\\n', 1-cdf)"
   ]
  },
  {
   "cell_type": "markdown",
   "metadata": {},
   "source": [
    "### A probability distribution P is dependent on two categorical values x and y. x can take on values T and F, while y can take on values of a, b, and c. The following joint distribution table describes the joint probability P(x,y). What is P(x=T | y=b) ?\n",
    "\n",
    "        a        b        c\n",
    "        \n",
    "`T  |  0.2   |  0.1   |  0.2`\n",
    "\n",
    "`F  |  0.05  |  0.15  |  0.3`"
   ]
  },
  {
   "cell_type": "code",
   "execution_count": 8,
   "metadata": {},
   "outputs": [
    {
     "data": {
      "text/plain": [
       "0.4"
      ]
     },
     "execution_count": 8,
     "metadata": {},
     "output_type": "execute_result"
    }
   ],
   "source": [
    "# conditional probability formula\n",
    "# prob of A given B = prob A and B / prob B\n",
    "\n",
    "0.1 / (0.1+0.15)\n",
    "\n",
    "# this is conditional probability bc conditional probability is the probability of occurrence \n",
    "# of a certain event say A, based on the occurrence of some other event say B. expressed as:\n",
    "# P(A|B) = P(A ⋂ B)/P(B)\n",
    "\n",
    "\n",
    "# Bayes theorem derived from the conditional probability of events. This theorem includes \n",
    "# two conditional probabilities for the events say A and B expressed as:\n",
    "# P(A|B) = P(B|A) * P(A)/P(B)"
   ]
  },
  {
   "cell_type": "markdown",
   "metadata": {},
   "source": [
    "### Which distribution is most appropriate to use to represent the scenario? The side that faces up when you roll a fair, 20 sided die.\n"
   ]
  },
  {
   "cell_type": "markdown",
   "metadata": {},
   "source": [
    "uniform discrete"
   ]
  }
 ],
 "metadata": {
  "kernelspec": {
   "display_name": "Python 3",
   "language": "python",
   "name": "python3"
  },
  "language_info": {
   "codemirror_mode": {
    "name": "ipython",
    "version": 3
   },
   "file_extension": ".py",
   "mimetype": "text/x-python",
   "name": "python",
   "nbconvert_exporter": "python",
   "pygments_lexer": "ipython3",
   "version": "3.7.6"
  }
 },
 "nbformat": 4,
 "nbformat_minor": 4
}
