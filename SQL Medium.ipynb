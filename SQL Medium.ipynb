{
 "cells": [
  {
   "cell_type": "markdown",
   "metadata": {},
   "source": [
    "## SQL User Logins\n",
    "Your table: maintable_RKIDI\n",
    "\n",
    "In this MySQL challenge, the table provided shows all new users signing up on a specific date in the format YYYY-MM-DD. Your query should output the change from one month to the next. Because the first month has no preceding month, your output should skip that row. Your output should look like the following table.\n"
   ]
  },
  {
   "cell_type": "code",
   "execution_count": null,
   "metadata": {},
   "outputs": [],
   "source": [
    "SELECT \n",
    "  CASE WHEN SUBSTRING(DateJoined,6,2) = '01' THEN 'January'\n",
    "       WHEN SUBSTRING(DateJoined,6,2) = '02' THEN 'February'\n",
    "       WHEN SUBSTRING(DateJoined,6,2) = '03' THEN 'March'\n",
    "       WHEN SUBSTRING(DateJoined,6,2) = '04' THEN 'April'\n",
    "       WHEN SUBSTRING(DateJoined,6,2) = '05' THEN 'May'\n",
    "  END Month, \n",
    "  \n",
    "  (SELECT COUNT(*) FROM maintable_RKIDI r WHERE MONTHNAME(r.DateJoined) = MONTHNAME(m.DateJoined))\n",
    "  -\n",
    "  (SELECT COUNT(*) FROM maintable_RKIDI r WHERE MONTHNAME(r.DateJoined) = MONTHNAME(DATE_ADD(m.DateJoined, interval - 1 Month)))\n",
    "  AS 'MonthToMonthChange'\n",
    "FROM maintable_RKIDI m\n",
    "WHERE month(DateJoined) != 1\n",
    "GROUP BY Month\n",
    "ORDER BY SUBSTRING(DateJoined,6,2)\n"
   ]
  },
  {
   "cell_type": "code",
   "execution_count": null,
   "metadata": {},
   "outputs": [],
   "source": [
    "-- more optimized\n",
    "\n",
    "SELECT MONTHNAME(DateJoined) as 'Month', \n",
    "  (SELECT COUNT(*) FROM maintable_DQORA a where MONTHNAME(a.DateJoined) = MONTHNAME(Main.DateJoined))\n",
    "   - \n",
    "   (SELECT COUNT(*) FROM maintable_DQORA a WHERE MONTHNAME(a.DateJoined) = MONTHNAME(DATE_ADD(Main.DateJoined, interval -1 Month)))\n",
    "   as 'MonthToMonthChange'\n",
    "  FROM maintable_DQORA Main\n",
    "  where month(DateJoined) != 1\n",
    " group by  month(DateJoined)"
   ]
  }
 ],
 "metadata": {
  "kernelspec": {
   "display_name": "Python 3",
   "language": "python",
   "name": "python3"
  },
  "language_info": {
   "codemirror_mode": {
    "name": "ipython",
    "version": 3
   },
   "file_extension": ".py",
   "mimetype": "text/x-python",
   "name": "python",
   "nbconvert_exporter": "python",
   "pygments_lexer": "ipython3",
   "version": "3.7.6"
  }
 },
 "nbformat": 4,
 "nbformat_minor": 4
}
