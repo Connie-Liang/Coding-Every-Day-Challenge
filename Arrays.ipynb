{
 "cells": [
  {
   "cell_type": "markdown",
   "metadata": {},
   "source": [
    "# Find Duplicates\n",
    "\n",
    "`given an array of integers between 1 and n, inclusive, where n is the length of the array, write a function\n",
    " that returns the first integer that appears more than once (when the array is read from left to right)`"
   ]
  },
  {
   "cell_type": "code",
   "execution_count": 48,
   "metadata": {},
   "outputs": [
    {
     "name": "stdout",
     "output_type": "stream",
     "text": [
      "2\n",
      "2\n",
      "-1\n"
     ]
    }
   ],
   "source": [
    "def firstDuplicateValue(array):\n",
    "    \n",
    "    counter = dict()\n",
    "        \n",
    "    for num in array:\n",
    "        if num not in counter:\n",
    "            counter[num] = 1\n",
    "            \n",
    "            for k,v in counter.items():\n",
    "                if counter[k] == 2:\n",
    "                    return k\n",
    "            \n",
    "        elif num in counter:\n",
    "            counter[num] += 1\n",
    "            \n",
    "            for k,v in counter.items():\n",
    "                if counter[k] == 2:\n",
    "                    return k\n",
    "    return -1\n",
    "           \n",
    "\n",
    "print(firstDuplicateValue([2, 1, 5, 2, 3, 3, 4]))\n",
    "print(stop_dict({2: 2, 1: 1, 5: 1, 3: 2, 4: 1}))\n",
    "print(firstDuplicateValue([2, 1, 5, 9, 3, 6, 4]))"
   ]
  },
  {
   "cell_type": "code",
   "execution_count": 60,
   "metadata": {},
   "outputs": [
    {
     "name": "stdout",
     "output_type": "stream",
     "text": [
      "None\n",
      "2\n",
      "None\n"
     ]
    }
   ],
   "source": [
    "def firstDuplicateValue(array):\n",
    "    \n",
    "    counter = dict()\n",
    "        \n",
    "    for num in array:\n",
    "        if num not in counter:\n",
    "            counter[num] = 1\n",
    "            stop_dict(counter)\n",
    "            \n",
    "            \n",
    "        elif num in counter:\n",
    "            counter[num] += 1\n",
    "            stop_dict(counter)\n",
    "\n",
    "\n",
    "def stop_dict(counter):\n",
    "    \n",
    "    for k,v in counter.items():\n",
    "        if counter[k] == 2:\n",
    "            return k\n",
    "        \n",
    "\n",
    "print(firstDuplicateValue([2, 1, 5, 2, 3, 3, 4]))\n",
    "print(stop_dict({2: 2, 1: 1, 5: 1, 3: 2, 4: 1}))\n",
    "print(firstDuplicateValue([2, 1, 5, 9, 3, 6, 4]))"
   ]
  },
  {
   "cell_type": "code",
   "execution_count": 63,
   "metadata": {},
   "outputs": [
    {
     "name": "stdout",
     "output_type": "stream",
     "text": [
      "2\n",
      "-1\n",
      "2\n"
     ]
    }
   ],
   "source": [
    "def firstDuplicateValue(array):\n",
    "    \n",
    "    minimumSecondIndex = len(array) #7\n",
    "    \n",
    "    for i in range(len(array)):\n",
    "        value = array[i] #iterate through array\n",
    "        \n",
    "        for j in range(i+1, len(array)): #look at number ahead of current array value\n",
    "            valueToCompare = array[j]\n",
    "            if value == valueToCompare: #if current array value is the same as one number ahead,\n",
    "                minimumSecondIndex = min(minimumSecondIndex, j) #return value is rewritten to be min of array length and index of number ahead of current value\n",
    "    \n",
    "    if minimumSecondIndex == len(array): #edge case: if return value isn't minimized, shows no duplicates\n",
    "        return -1\n",
    "    \n",
    "    return array[minimumSecondIndex] #return the duplicated number at its second index\n",
    "\n",
    "print(firstDuplicateValue([2, 1, 5, 2, 3, 3, 4]))\n",
    "print(firstDuplicateValue([2, 1, 5, 9, 3, 6, 4]))\n",
    "print(firstDuplicateValue([2, 1, 5, 9, 3, 6, 2]))"
   ]
  },
  {
   "cell_type": "markdown",
   "metadata": {},
   "source": [
    "`write a function that takes in a non-empty array of integers and returns an array of the same length, where each element in the output array is equal to the product of every other number in the input array`"
   ]
  },
  {
   "cell_type": "code",
   "execution_count": 67,
   "metadata": {},
   "outputs": [
    {
     "name": "stdout",
     "output_type": "stream",
     "text": [
      "[]\n"
     ]
    }
   ],
   "source": [
    "import numpy as np\n",
    "\n",
    "def arrayOfProducts(array):\n",
    "    \n",
    "    products = []\n",
    "    \n",
    "    for idx in range(len(array)):\n",
    "        temp_array = array\n",
    "        \n",
    "        if temp_array[idx] != array[idx]:\n",
    "#             temp_array.remove(array[idx])\n",
    "            result *= temp_array[idx]\n",
    "            \n",
    "            products.append(result)\n",
    "    \n",
    "    return products\n",
    "    \n",
    "print(arrayOfProducts([5, 1, 4, 2]))"
   ]
  },
  {
   "cell_type": "code",
   "execution_count": 94,
   "metadata": {},
   "outputs": [
    {
     "name": "stdout",
     "output_type": "stream",
     "text": [
      "None\n"
     ]
    }
   ],
   "source": [
    "import numpy as np\n",
    "\n",
    "def arrayOfProducts(array):\n",
    "    \n",
    "    idx = 0\n",
    "    lst = []\n",
    "    \n",
    "    for i in range(len(array)):\n",
    "        array2 = array.copy()\n",
    "        array2 = array.remove(array[0])\n",
    "    \n",
    "    return array2\n",
    "        \n",
    "    \n",
    "    \n",
    "    \n",
    "print(arrayOfProducts([5, 1, 4, 2]))\n",
    "\n",
    "# [8, 40, 10, 20]\n"
   ]
  },
  {
   "cell_type": "code",
   "execution_count": 105,
   "metadata": {},
   "outputs": [
    {
     "name": "stdout",
     "output_type": "stream",
     "text": [
      "[8, 40, 10, 20]\n"
     ]
    }
   ],
   "source": [
    "def arrayOfProducts(array):\n",
    "    \n",
    "    products = []\n",
    "    \n",
    "    for i in range(len(array)):\n",
    "        prod = 1\n",
    "        \n",
    "        for j in range(len(array)):\n",
    "            if i != j:\n",
    "                prod *= array[j]\n",
    "        products.append(prod)\n",
    "        \n",
    "    \n",
    "    return products\n",
    "    \n",
    "print(arrayOfProducts([5, 1, 4, 2]))"
   ]
  },
  {
   "cell_type": "markdown",
   "metadata": {},
   "source": [
    "# Tournament Winner\n",
    "\n",
    "Given an array of pairs representing th teams that have competed against each other and an array containing the results of each competition, write a function that returns the winner of the tournament . The input arrays are named `competitions` and the `results` respectively. The `competition` array has elements in the form of `[homeTeam, awayTeam]`, where each team is a string of at most 30 characters representing the name of the team. The `results` array contains information about the winner of each corresponding competition in the `competitions` array. Specifically, `results[i]`, where a `1` in the `results` array means that the home team in the corresponding competition won and a `0` means that the away team won. "
   ]
  },
  {
   "cell_type": "code",
   "execution_count": 73,
   "metadata": {},
   "outputs": [
    {
     "name": "stdout",
     "output_type": "stream",
     "text": [
      "{'HTML': 6, 'Python': 3}\n"
     ]
    }
   ],
   "source": [
    "from collections import Counter\n",
    "\n",
    "def tournamentWinner(competitions, results):\n",
    "    \n",
    "    winners = []\n",
    "    lst = []\n",
    "    d = dict()\n",
    "    \n",
    "    for num in results:\n",
    "        if num == 0:\n",
    "            winners.append(1)\n",
    "        else:\n",
    "            winners.append(0)\n",
    "    \n",
    "    for idx in range(len(winners)):\n",
    "        lst.append(competitions[idx][winners[idx]])\n",
    "    \n",
    "    for i in lst:\n",
    "        if i in d:\n",
    "            d[i] += 3\n",
    "        else:\n",
    "            d[i] = 3\n",
    "    return d\n",
    "    \n",
    "\n",
    "competitions = [\n",
    "  [\"HTML\", \"HTML\"],\n",
    "  [\"HTML\", \"HTML\"],\n",
    "  [\"Python\", \"HTML\"]\n",
    "]\n",
    "\n",
    "results = [0, 0, 1]\n",
    "\n",
    "print(tournamentWinner(competitions, results))"
   ]
  },
  {
   "cell_type": "code",
   "execution_count": null,
   "metadata": {},
   "outputs": [],
   "source": [
    "winners: C#, Python, Python"
   ]
  },
  {
   "cell_type": "markdown",
   "metadata": {},
   "source": [
    "You are given an array of integers. Return an array of the same size where the element at each index is the product of all the elements in the original array except for the element at that index.\n",
    "\n",
    "For example, an input of [1, 2, 3, 4, 5] should return [120, 60, 40, 30, 24].\n",
    "\n",
    "You cannot use division in this problem."
   ]
  },
  {
   "cell_type": "code",
   "execution_count": null,
   "metadata": {},
   "outputs": [],
   "source": [
    "\n",
    "def products(nums):\n",
    " \n",
    "\n",
    "print products([1, 2, 3, 4, 5])"
   ]
  }
 ],
 "metadata": {
  "kernelspec": {
   "display_name": "Python 3",
   "language": "python",
   "name": "python3"
  },
  "language_info": {
   "codemirror_mode": {
    "name": "ipython",
    "version": 3
   },
   "file_extension": ".py",
   "mimetype": "text/x-python",
   "name": "python",
   "nbconvert_exporter": "python",
   "pygments_lexer": "ipython3",
   "version": "3.7.6"
  }
 },
 "nbformat": 4,
 "nbformat_minor": 4
}
